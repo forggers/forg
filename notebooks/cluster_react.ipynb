{
 "cells": [
  {
   "cell_type": "code",
   "execution_count": null,
   "metadata": {},
   "outputs": [],
   "source": [
    "from forg.train import train, EmbeddingMetricType\n",
    "\n",
    "result = train(\n",
    "    \"../data/repos/react\",\n",
    "    samples=2000,\n",
    "    epochs=10_000,\n",
    "    metric=EmbeddingMetricType.HYPERBOLIC,\n",
    ")"
   ]
  },
  {
   "cell_type": "code",
   "execution_count": null,
   "metadata": {},
   "outputs": [],
   "source": [
    "from forg.cluster import cluster_to_disk\n",
    "\n",
    "# symlinks files into a generated directory structure\n",
    "cluster_to_disk(\n",
    "    result.embedding,\n",
    "    result.embedding_metric,\n",
    "    result.test_files,\n",
    "    \"../dev/cluster/react_test\",\n",
    "    num_dirs=30,\n",
    ")"
   ]
  }
 ],
 "metadata": {
  "kernelspec": {
   "display_name": ".venv",
   "language": "python",
   "name": "python3"
  },
  "language_info": {
   "codemirror_mode": {
    "name": "ipython",
    "version": 3
   },
   "file_extension": ".py",
   "mimetype": "text/x-python",
   "name": "python",
   "nbconvert_exporter": "python",
   "pygments_lexer": "ipython3",
   "version": "3.12.2"
  }
 },
 "nbformat": 4,
 "nbformat_minor": 2
}
